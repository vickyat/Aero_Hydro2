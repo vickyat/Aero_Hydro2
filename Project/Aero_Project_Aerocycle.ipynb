{
 "cells": [
  {
   "cell_type": "markdown",
   "metadata": {},
   "source": [
    "- drag coefficient as a function of lift coefficient\n",
    "- how to integrate,add all together?\n",
    "- bug below\n",
    "- how to set up two kutta conditions for two sets of rotor blades\n",
    "\n",
    "\n",
    "http://www-mdp.eng.cam.ac.uk/web/library/enginfo/aerothermal_dvd_only/aero/propeller/prop1.html\n",
    "\n",
    "https://sites.google.com/site/aerodynamics4students/table-of-contents/aircraft-performance-1/blade-elecment-analysis-for-rotors\n",
    "\n",
    "http://www.aia.rwth-aachen.de/vlueb/vl/fahrzeug-_und_windradaerodynamik/assign/uebung6.pdf\n",
    "\n",
    "http://www.public.iastate.edu/~aero442/unit3.pdf\n",
    "\n",
    "\n",
    "NACA 0012, symmetrical af for rotors because of \"ease of construction and zero pitching-moment coefficient\"\n",
    "http://naca.central.cranfield.ac.uk/reports/1949/naca-tn-1812.pdf\n",
    "\n",
    "http://people.clarkson.edu/~pmarzocc/AE429/The%20NACA%20airfoil%20series.pdf\n",
    "\n",
    "http://all-aero.com/index.php/45-planes-d-e-f/2856-de-lackner-dh-4-heli-vector-hz-1-aerocycle\n",
    "\n",
    "http://naca.central.cranfield.ac.uk/reports/1949/naca-tn-1812.pdf\n",
    "\n",
    "http://aerodynamics.aeromech.usyd.edu.au/propel.m BET code\n",
    "\n",
    "http://s6.aeromech.usyd.edu.au/aerodynamics/index.php/sample-page/propulsion/blade-element-propeller-theory/\n",
    "\n",
    "https://en.wikipedia.org/wiki/De_Lackner_HZ-1_Aerocycle\n",
    "\n",
    "http://naca.central.cranfield.ac.uk/reports/1937/naca-report-586.pdf lift curve slope\n",
    "\n",
    "https://community.dur.ac.uk/g.l.ingram/download/wind_turbine_design.pdf BET assumptions\n",
    "\n",
    "http://www.aerospaceweb.org/question/airfoils/q0259c.shtml cd eqn\n",
    "\n",
    "http://www.aerostudents.com/files/aircraftPerformance2/helicopters.pdf\n",
    "\n",
    "http://aerodynamics.aeromech.usyd.edu.au/rotor.m rotor code\n",
    "\n",
    "http://www.pprune.org/rotorheads/254584-typical-rotor-rpm.html rpm"
   ]
  },
  {
   "cell_type": "markdown",
   "metadata": {},
   "source": [
    "We can use Blade Element Theory and the panel method to determine the pressure coefficient and lift on a rotor. In this case we will be looking at a horizontal rotor on the HZ-1 Aerocycle. This vehicle was created during WWII and consisted of a standing \"driver's seat\" and 2 offset rotors located under the pilot. It was designed to be an ambiguous vehicle for use by ground soldiers. It was hoped to create a modernized calvary (where instead of horses, they would have aerocycles). The project was scrapped after several crashes occurred. The reason for the crashes were due to the collision of the 2 rotors. (Investigators were never able to determine why the rotors collided.)\n",
    "\n",
    "# Blade Element Theory\n",
    "\n",
    "Blade element theory takes a single rotor blade and cuts it into different segments. The resulting cross sections from each segment are then analyzed separately for thrust, lift, etc. In the end the values from each segment can be integrated across the entire length of the blade to give an approximation of total thrust, lift, and so on.\n",
    "\n",
    "In this case, we will be using Blade element theory to determine the angle of attack and the local freestream velocity for each segment. Each cross section will be treated as an individual airfoil and the panel method can be applied to determine the coefficient of pressure and velocity field. Once these parameters are solved for each \"piece\" of the rotor blade, we can integrate to get the total value on the blade, and multiply by the number of blades to get the value for the rotor.\n",
    "\n",
    "To solve for the angle of attack and freestream velocity of each segment, we will need to solve a set of equations. A rotor blade has axial and angular components of velocity. We will need the axial and angular velocities on each segment to determine the angle of attack and freestream velocity. In order to determine these velocities, we must solve for the axial and angular inflow factors. These parameters determine velocity loss. Start with an initial guess of $a\\ $ and $b\\ $ and iterate until a target convergence is met.\n",
    "\n",
    "# Panel Method\n",
    "\n",
    "The panel method is the next step that will be implemented in the code. For each segment of the blade, the panel method will be applied to determine parameters for each airfoil cross section.\n",
    "\n",
    "# Assumptions and airfoil choice\n",
    "\n",
    "BET : no aerodynamic interactions between blade segments, forces on blade determined solely by lift and drag coefficients. Ideal blades (no drag or tip loss).\n",
    "\n",
    "Design assumptions : constant pitch, constant chord, same af along rotor blade\n",
    "\n",
    "AF : 0 camber af for \"ease of construction and zero pitching moment coefficient\" according to old article, NACA 0012\n"
   ]
  },
  {
   "cell_type": "code",
   "execution_count": 65,
   "metadata": {
    "collapsed": true
   },
   "outputs": [],
   "source": [
    "import numpy\n",
    "from matplotlib import pyplot\n",
    "%matplotlib inline\n",
    "import math\n"
   ]
  },
  {
   "cell_type": "code",
   "execution_count": 15,
   "metadata": {
    "collapsed": true
   },
   "outputs": [],
   "source": [
    "#NACA 0012\n",
    "D = 4.6  #[m]\n",
    "RPM = 300  #[rev/min]\n",
    "n = RPM/60  #[rev/s]\n",
    "omega = n*2*numpy.pi  #rad/s\n",
    "P = 40  #[hp]\n",
    "Vmax = 121*1000/60/60  #[m/s]\n",
    "H = 0.0\n",
    "T = 0.12\n",
    "rho = 1.225  #[kg/m^3]\n",
    "R = D/2.0\n",
    "p = 1\n",
    "c = .1524  #[m] = 6 in\n",
    "collective = 8.0/180*numpy.pi\n",
    "cyclic = 0.0\n",
    "tc = 0.12*c   #thickness to chord ratio\n",
    "N_seg = 10\n",
    "N_blades = 2\n",
    "rb = numpy.linspace(0.1*R, 0.95*R, N_seg)"
   ]
  },
  {
   "cell_type": "code",
   "execution_count": 16,
   "metadata": {
    "collapsed": false,
    "scrolled": false
   },
   "outputs": [
    {
     "name": "stdout",
     "output_type": "stream",
     "text": [
      "10\n",
      "end 0, number of iterations: 15\n",
      "end 1, number of iterations: 20\n",
      "end 2, number of iterations: 19\n",
      "end 3, number of iterations: 23\n",
      "end 4, number of iterations: 26\n",
      "end 5, number of iterations: 28\n",
      "end 6, number of iterations: 30\n",
      "end 7, number of iterations: 31\n",
      "end 8, number of iterations: 32\n",
      "end 9, number of iterations: 33\n"
     ]
    }
   ],
   "source": [
    "V = 0.0    #forward velocity\n",
    "tilt = 0.0/180*numpy.pi\n",
    "Vc = 0.0    #climb speed\n",
    "vflap = 0.0    #max flap vel\n",
    "thrust = 0.0\n",
    "torque = 0.0\n",
    "Mx = 0.0\n",
    "My = 0.0\n",
    "alpha = numpy.zeros_like(rb)\n",
    "V1 = numpy.zeros_like(rb)\n",
    "print(len(rb))\n",
    "for i in range(len(rb)):\n",
    "    psi = numpy.pi/(N_seg/2)*rb[i] - numpy.pi/N_seg\n",
    "    thetab = collective+ cyclic*numpy.cos(psi)\n",
    "    Vi = 2.0   #initial guess for induced velocity\n",
    "    check = False\n",
    "    target = 1e-5\n",
    "    iterations = 0\n",
    "    conva = 100\n",
    "    convb = 100\n",
    "    \n",
    "    while check == False:\n",
    "        V0 = Vi +Vc +V*numpy.sin(tilt) + vflap*rb[i]*numpy.sin(psi)\n",
    "        V2 = omega*rb[i] + V*numpy.cos(tilt)*numpy.sin(psi)\n",
    "        phi = numpy.arctan2(V0,V2)\n",
    "        al = thetab-phi\n",
    "        cl = 5.73*al\n",
    "        cd = 0.0002*(al)**2 + 0.01\n",
    "        Vlocal = numpy.sqrt(V0**2+V2**2)\n",
    "        DtDr = 0.5*rho*Vlocal**2*N_blades*c*(cl*numpy.cos(phi)-cd*numpy.sin(phi))/N_seg\n",
    "        DqDr = 0.5*rho*Vlocal**2*N_blades*c*rb[i]*(cd*numpy.cos(phi)+cl*numpy.sin(phi))/N_seg\n",
    "        mom1 = DtDr/(numpy.pi/4.0*rb[i]*rho*V0)\n",
    "        Vinew = 0.9*Vi + 0.1*mom1\n",
    "        if Vinew <0:\n",
    "            Vinew=0\n",
    "        \n",
    "        iterations += 1\n",
    "        \n",
    "        if numpy.absolute(Vinew-Vi) < target:\n",
    "            check = True\n",
    "            print('end {}, number of iterations: {}'.format(i,iterations)) \n",
    "        \n",
    "        Vi = Vinew\n",
    "        if iterations > 20000:\n",
    "            break          \n",
    "        \n",
    "    V0 = Vi+Vc+V*numpy.sin(tilt)+vflap*rb[i]*numpy.sin(psi)\n",
    "    V2 = omega*rb[i]+V*numpy.cos(tilt)*numpy.sin(psi)\n",
    "    V1[i] = numpy.sqrt(V0**2+V2**2)\n",
    "    phi = float(numpy.arctan2(V0,V2))\n",
    "    alpha[i] = thetab-numpy.arctan2(V0,V2)\n",
    "    #print(V1)"
   ]
  },
  {
   "cell_type": "code",
   "execution_count": 5,
   "metadata": {
    "collapsed": false
   },
   "outputs": [
    {
     "data": {
      "text/plain": [
       "array([  7.27201888,  14.11978829,  20.9598738 ,  27.79584324,\n",
       "        34.62927765,  41.46100451,  48.29151157,  55.12110769,\n",
       "        61.95000122,  68.77833807])"
      ]
     },
     "execution_count": 5,
     "metadata": {},
     "output_type": "execute_result"
    }
   ],
   "source": [
    "V1#numpy.degrees(alpha)"
   ]
  },
  {
   "cell_type": "code",
   "execution_count": 17,
   "metadata": {
    "collapsed": false
   },
   "outputs": [],
   "source": [
    "class Panel:\n",
    "    \"\"\"Contains information related to a panel.\"\"\"\n",
    "    def __init__(self, xa, ya, xb, yb):\n",
    "        \"\"\"Initializes the panel.\n",
    "        \n",
    "        Arguments\n",
    "        ---------\n",
    "        xa, ya -- coordinates of the first end-point of the panel.\n",
    "        xb, yb -- coordinates of the second end-point of the panel.\n",
    "        \"\"\"\n",
    "        self.xa, self.ya = xa, ya\n",
    "        self.xb, self.yb = xb, yb\n",
    "        \n",
    "        self.xc, self.yc = (xa+xb)/2, (ya+yb)/2            # collocation point (center-point)\n",
    "        self.length = math.sqrt((xb-xa)**2+(yb-ya)**2)     # length of the panel\n",
    "        \n",
    "        # orientation of the panel (angle between x-axis and panel's normal)\n",
    "        if xb-xa <= 0.:\n",
    "            self.beta = math.acos((yb-ya)/self.length)\n",
    "        elif xb-xa > 0.:\n",
    "            self.beta = math.pi + math.acos(-(yb-ya)/self.length)\n",
    "        \n",
    "        self.n = [ math.cos(self.beta), math.sin(self.beta)]\n",
    "        self.t = [-math.sin(self.beta), math.cos(self.beta)]\n",
    "        \n",
    "        self.kappa = 1                              # doublet strength\n",
    "        self.vt = 0                                 # tangential velocity\n",
    "        self.cp = 0                                 # pressure coefficientbb"
   ]
  },
  {
   "cell_type": "code",
   "execution_count": null,
   "metadata": {
    "collapsed": true
   },
   "outputs": [],
   "source": []
  },
  {
   "cell_type": "code",
   "execution_count": 55,
   "metadata": {
    "collapsed": false,
    "scrolled": true
   },
   "outputs": [
    {
     "data": {
      "image/png": "[encoded data removed]",
      "text/plain": [
       "<matplotlib.figure.Figure at 0x7fc261534ba8>"
      ]
     },
     "metadata": {},
     "output_type": "display_data"
    }
   ],
   "source": [
    "# plot NACA 0012 airfoil\n",
    "N_panels = 40                    # number of panels desired\n",
    "\n",
    "T = 0.12\n",
    "H = 0\n",
    "c = 0.1524  #[m] = 6 in\n",
    "a = c/4\n",
    "r = (0.25+T/(3*math.sqrt(3)))*c                      # circle radius\n",
    "zeta_c = -4*a/(3*math.sqrt(3))*T + 1j*2*a*H        # circle center\n",
    "zeta_c2 = -4*a/(3*numpy.sqrt(3))*T + 1j*2*a*H\n",
    "theta = numpy.linspace(0, 2*math.pi, N_panels+1)   # theta endpoints of panels\n",
    "zeta = r*numpy.exp(1j*theta)                       # endpoints of circle surface panels\n",
    "zeta2 = r*numpy.exp(1j*theta)\n",
    "z_ends = (zeta+zeta_c) + a**2/(zeta+zeta_c) # endpoints of airfoil surface panels\n",
    "z_ends2 = (zeta2+zeta_c) + a**2/(zeta2+zeta_c)+0.3j    # add 1 ft offset from other airfoil\n",
    "x_ends,  y_ends = z_ends.real, z_ends.imag\n",
    "x_ends2, y_ends2 = -z_ends2.real, z_ends2.imag    #turn airfoil in other direction\n",
    "#x_ends = numpy.delete(x_ends,[1,N_panels-1])       # delete 2nd and 2nd to last points to merge panels\n",
    "#y_ends = numpy.delete(y_ends,[1,N_panels-1])\n",
    "#N_panels = N_panels - 2\n",
    "\n",
    "# define the panels\n",
    "panels1a = numpy.empty(N_panels+1, dtype=object)\n",
    "panels1b = numpy.empty(N_panels+1, dtype=object)\n",
    "#panels = numpy.empty((len(rb),N_panels+1),dtype=(object,float))\n",
    "#for j in range(len(rb)):\n",
    "for i in range(N_panels):\n",
    "    panels1a[i] = Panel(x_ends[i], y_ends[i], x_ends[i+1], y_ends[i+1])\n",
    "    panels1b[i] = Panel(x_ends2[i], y_ends2[i], x_ends2[i+1], y_ends2[i+1])\n",
    "panels1a[-1] = Panel(x_ends[0], y_ends[0], x_ends[0]+1000, y_ends[0])\n",
    "panels1b[-1] = Panel(x_ends2[0], y_ends2[0], x_ends2[0]-1000, y_ends2[0])\n",
    "\n",
    "# plot the panels\n",
    "size = 6\n",
    "pyplot.figure(figsize=(size, size))\n",
    "pyplot.grid(True)\n",
    "pyplot.xlabel('x', fontsize=16)\n",
    "pyplot.ylabel('y', fontsize=16)\n",
    "pyplot.plot(x_ends, y_ends, color='#CD2305', linestyle='-', linewidth=2)\n",
    "pyplot.plot(x_ends2,y_ends2)\n",
    "#pyplot.scatter([p.xa for p in panels1a], [p.ya for p in panels1a], color='#CD2305', s=40)\n",
    "pyplot.scatter([p.xc for p in panels1a], [p.yc for p in panels1a], color='k', marker='x', s=40, zorder=3)\n",
    "pyplot.scatter([p.xc for p in panels1b], [p.yc for p in panels1b], color='k', marker='x', s=40, zorder=3)\n",
    "\n",
    "#pyplot.quiver([p.xc for p in panels], [p.yc for p in panels], [p.n[0] for p in panels], [p.n[1] for p in panels],\n",
    "              #scale=15, width=0.005)\n",
    "#pyplot.legend(['panels', 'end-points', 'center-points'], loc='best', prop={'size':16})\n",
    "pyplot.xlim(-0.1, 0.1)\n",
    "#pyplot.ylim(-0.1, 0.1)\n",
    "pyplot.title('NACA 0012 airfoil, c = {} m, {} panels'.format(c,N_panels));"
   ]
  },
  {
   "cell_type": "code",
   "execution_count": 62,
   "metadata": {
    "collapsed": false
   },
   "outputs": [
    {
     "data": {
      "text/plain": [
       "(41,)"
      ]
     },
     "execution_count": 62,
     "metadata": {},
     "output_type": "execute_result"
    }
   ],
   "source": [
    "numpy.shape(panels1a)"
   ]
  },
  {
   "cell_type": "code",
   "execution_count": 19,
   "metadata": {
    "collapsed": true
   },
   "outputs": [],
   "source": [
    "def get_doublet_panel_velocity(p,x,y):\n",
    "    \"\"\"Evaluates the velocity components induced at coordinates (x,y) by a panel p.\n",
    "    \n",
    "    Arguments\n",
    "    ---------\n",
    "    p -- panel from which the velocity is induced\n",
    "    x -- x-coordinate in global frame\n",
    "    y -- y-coordinate in global frame\n",
    "    \n",
    "    Returns\n",
    "    -------\n",
    "    (u,v)-components of velocity at (x,y)\n",
    "    \"\"\"\n",
    "    \n",
    "    x_p =  math.sin(p.beta)*(x-p.xb) - math.cos(p.beta)*(y-p.yb)\n",
    "    y_p =  math.cos(p.beta)*(x-p.xb) + math.sin(p.beta)*(y-p.yb)\n",
    "    \n",
    "    u_p = -p.kappa/(2*math.pi)*(y_p/(x_p**2+y_p**2) - y_p/((x_p-p.length)**2+y_p**2))\n",
    "    v_p =  p.kappa/(2*math.pi)*(x_p/(x_p**2+y_p**2) - (x_p-p.length)/((x_p-p.length)**2+y_p**2))\n",
    "    \n",
    "    u =  math.sin(p.beta)*u_p + math.cos(p.beta)*v_p\n",
    "    v = -math.cos(p.beta)*u_p + math.sin(p.beta)*v_p\n",
    "    \n",
    "    return u, v"
   ]
  },
  {
   "cell_type": "markdown",
   "metadata": {},
   "source": [
    "Since all of the airfoils are the same (NACA 0012 and same chord), the A matrix will be the same for each set of panels. However, since the freestream velocity, $V_{\\infty}$, and angle of attack, $\\alpha$, are different for each blade segment, we need to create our matrix $b$ such that it creates $N_segment$ of $b$ matrices."
   ]
  },
  {
   "cell_type": "markdown",
   "metadata": {
    "collapsed": false
   },
   "source": [
    "<img src=\"files/bmatrix.jpg\">\n",
    "![Image](./figures/bmatrix.png)"
   ]
  },
  {
   "cell_type": "code",
   "execution_count": 20,
   "metadata": {
    "collapsed": true
   },
   "outputs": [],
   "source": [
    "# compute the influence coefficient matrix\n",
    "def matrix_norm(N_panels,panels,V1,alpha):\n",
    "    A = numpy.zeros((2*N_panels+2, 2*N_panels+2), dtype=float)\n",
    "\n",
    "    for i, p_i in enumerate(panelsa[0:N_panels]):\n",
    "        for j, p_j in enumerate(panelsa):\n",
    "            if i == 0:N_panels and j == 0:N_panels:\n",
    "                A[i,j] = numpy.dot(get_doublet_panel_velocity(p_j, p_i.xc, p_i.yc), p_i.n)\n",
    "            #if i == j:\n",
    "                #A[i,j] *= 1.001\n",
    "    for i, p_i in enumerate(panelsa[0:N_panels]):\n",
    "        for j, p_j in enumerate(panelsb):\n",
    "            if i == 0:N_panels and j == N_panels+1:-1:\n",
    "                A[i,j] = numpy.dot(get_doublet_panel_velocity(p_j, p_i.xc, p_i.yc), p_i.n)\n",
    "                \n",
    "    for i, p_i in enumerate(panelsb[0:N_panels]):\n",
    "        for j, p_j in enumerate(panelsa):\n",
    "            if i == N_panels+1:-1 and j == 0:N_panels:\n",
    "                A[i,j] = numpy.dot(get_doublet_panel_velocity(p_j, p_i.xc, p_i.yc), p_i.n)\n",
    "                \n",
    "    for i, p_i in enumerate(panelsb[0:N_panels]):\n",
    "        for j, p_j in enumerate(panelsb):\n",
    "            if i == N_panels+1:-1 and j == N_panels+1:-1:\n",
    "                A[i,j] = numpy.dot(get_doublet_panel_velocity(p_j, p_i.xc, p_i.yc), p_i.n)\n",
    "                \n",
    "    A[-1,0] = -1\n",
    "    A[-1,-2] = 1\n",
    "    A[-1,-1] = -1\n",
    "\n",
    "    # compute the RHS of the linear system\n",
    "    b = numpy.zeros((len(N_seg),2*N_panels+2, 1), dtype=float)\n",
    "    #for r in range(len(alpha)):\n",
    "    for s in range(len(N_seg)):\n",
    "        for i, p_i in enumerate(panelsa[0:N_panels]):\n",
    "            b[s,i,0] = -numpy.dot(numpy.array([V1[s]*math.cos(alpha[s]), V1[s]*math.sin(alpha[s])]), p_i.n)\n",
    "        for i, p_i in enumerate(panelsb[N_panels+2:-2]):\n",
    "            b[s,i,0] = numpy.dot(numpy.array([V1[s]*math.cos(alpha[s]), V1[s]*math.sin(alpha[s])]), p_i.n)\n",
    "        \n",
    "    return A,b"
   ]
  },
  {
   "cell_type": "code",
   "execution_count": 64,
   "metadata": {
    "collapsed": false
   },
   "outputs": [
    {
     "data": {
      "text/plain": [
       "82"
      ]
     },
     "execution_count": 64,
     "metadata": {},
     "output_type": "execute_result"
    }
   ],
   "source": [
    "2*N_panels+2"
   ]
  },
  {
   "cell_type": "code",
   "execution_count": 21,
   "metadata": {
    "collapsed": true
   },
   "outputs": [],
   "source": [
    "# solves the linear system\n",
    "def find_kap(A,b,panels):\n",
    "    kappa = numpy.linalg.solve(A, b)\n",
    "\n",
    "    for i, panel in enumerate(panels):\n",
    "        panel.kappa = float(kappa[i])"
   ]
  },
  {
   "cell_type": "code",
   "execution_count": 13,
   "metadata": {
    "collapsed": true
   },
   "outputs": [],
   "source": [
    "def matrix_tang(panels,N_panels,V1,alpha):\n",
    "    for i, p_i in enumerate(panels[0:N_panels]):\n",
    "        vt = numpy.array([0])\n",
    "        for j, p_j in enumerate(panels):\n",
    "            if i != j:\n",
    "                vt = vt + numpy.dot(get_doublet_panel_velocity(p_j, p_i.xc, p_i.yc), p_i.t)\n",
    "        if i == 0:\n",
    "            R = math.sqrt((panels[1].xc-panels[0].xc)**2 + (panels[1].yc-panels[0].yc)**2)\n",
    "            vt = vt - 0.5*(panels[1].kappa-panels[0].kappa)/R\n",
    "        elif i == N_panels-1:\n",
    "            R = math.sqrt((panels[N_panels-1].xc-panels[N_panels-2].xc)**2 + (panels[N_panels-1].yc-panels[N_panels-2].yc)**2)\n",
    "            vt = vt - 0.5*(panels[N_panels-1].kappa-panels[N_panels-2].kappa)/R\n",
    "        else:\n",
    "            R = math.sqrt((panels[i+1].xc-panels[i-1].xc)**2 + (panels[i+1].yc-panels[i-1].yc)**2)\n",
    "            vt = vt - 0.5*(panels[i+1].kappa-panels[i-1].kappa)/R\n",
    "        vt = vt + numpy.dot(numpy.array([V1[0]*math.cos(alpha[0]), V1[0]*math.sin(alpha[0])]), p_i.t)\n",
    "        p_i.vt = float(vt)\n",
    "        p_i.cp = 1.0 - (p_i.vt/V1[0])**2\n",
    "        \n",
    "        return vt"
   ]
  },
  {
   "cell_type": "code",
   "execution_count": null,
   "metadata": {
    "collapsed": false
   },
   "outputs": [],
   "source": [
    "# create surface of airfoil for analytical solution\n",
    "thetaa = numpy.linspace(0.01, 2*math.pi-0.01, 41)      # theta coordinates\n",
    "zeta = r*numpy.exp(1j*thetaa)                          # circle coordinates\n",
    "z = (zeta+zeta_c) + a**2/(zeta+zeta_c)                # airfoil coordinates\n",
    "\n",
    "# flow parameters\n",
    "kappa = 2*math.pi*V1[0]*r**2                   # doublet strength for circle with radius r\n",
    "Gam = 4*math.pi*r*V1[0]*numpy.sin(alpha[0]+2*H)      # vortex strength\n",
    "\n",
    "# compute the complex velocity on the surface\n",
    "w = V1[0] - kappa/(2*math.pi)/zeta**2 + 1j*Gam/(2*math.pi)/zeta\n",
    "zeta = zeta*numpy.exp(1j*alpha[0])\n",
    "\n",
    "# Joukowski transformation\n",
    "w = w/(1 - a**2/(zeta+zeta_c)**2)\n",
    "cp_analytical = 1 - numpy.abs(w)**2/V1[0]**2\n",
    "\n",
    "# plots the surface pressure coefficient\n",
    "pyplot.figure(figsize=(10, 6))\n",
    "pyplot.grid(True)\n",
    "pyplot.xlabel('x', fontsize=16)\n",
    "pyplot.ylabel('$C_p$', fontsize=16)\n",
    "pyplot.plot(z.real, cp_analytical, color='b', linestyle='-', linewidth=1, zorder=1)\n",
    "pyplot.scatter([p.xc for p in panels[0:N_panels]], [p.cp for p in panels[0:N_panels]], color='#CD2305', s=40, zorder=2)\n",
    "pyplot.title('Number of panels : %d' % N_panels, fontsize=16)\n",
    "pyplot.legend(['analytical', 'source panel method'], loc='best', prop={'size':16})\n",
    "pyplot.xlim(-0.6, 0.6)\n",
    "pyplot.ylim(-1, 1.5)\n",
    "pyplot.gca().invert_yaxis();"
   ]
  },
  {
   "cell_type": "code",
   "execution_count": null,
   "metadata": {
    "collapsed": true
   },
   "outputs": [],
   "source": [
    "# integrate cp over blade"
   ]
  },
  {
   "cell_type": "code",
   "execution_count": null,
   "metadata": {
    "collapsed": true
   },
   "outputs": [],
   "source": []
  },
  {
   "cell_type": "code",
   "execution_count": null,
   "metadata": {
    "collapsed": true
   },
   "outputs": [],
   "source": []
  },
  {
   "cell_type": "code",
   "execution_count": null,
   "metadata": {
    "collapsed": true
   },
   "outputs": [],
   "source": []
  },
  {
   "cell_type": "markdown",
   "metadata": {},
   "source": [
    "# Improvements\n",
    "\n",
    "Improvements that could be made:\n",
    "- input more complex blade shape\n",
    "- correction factor for tip loss\n",
    "- double rotor and effects that they will produce on each other\n"
   ]
  },
  {
   "cell_type": "code",
   "execution_count": 61,
   "metadata": {
    "collapsed": false
   },
   "outputs": [
    {
     "name": "stdout",
     "output_type": "stream",
     "text": [
      "[[[ 1.  1.  1.  1.  1.]\n",
      "  [ 0.  0.  0.  0.  0.]\n",
      "  [ 0.  0.  0.  0.  0.]\n",
      "  [ 0.  0.  0.  0.  0.]]\n",
      "\n",
      " [[ 0.  0.  0.  0.  0.]\n",
      "  [ 0.  0.  0.  0.  0.]\n",
      "  [ 0.  0.  0.  0.  0.]\n",
      "  [ 0.  0.  0.  0.  0.]]\n",
      "\n",
      " [[ 0.  0.  0.  0.  0.]\n",
      "  [ 0.  0.  0.  0.  0.]\n",
      "  [ 0.  0.  0.  0.  0.]\n",
      "  [ 0.  0.  0.  0.  0.]]\n",
      "\n",
      " [[ 0.  0.  0.  0.  0.]\n",
      "  [ 0.  0.  0.  0.  0.]\n",
      "  [ 0.  0.  0.  0.  0.]\n",
      "  [ 0.  0.  0.  0.  0.]]\n",
      "\n",
      " [[ 7.  7.  7.  7.  7.]\n",
      "  [ 7.  7.  7.  7.  7.]\n",
      "  [ 7.  7.  7.  7.  7.]\n",
      "  [ 7.  7.  7.  7.  7.]]\n",
      "\n",
      " [[ 0.  0.  0.  0.  0.]\n",
      "  [ 0.  0.  0.  0.  0.]\n",
      "  [ 0.  0.  0.  0.  0.]\n",
      "  [ 0.  0.  0.  0.  0.]]\n",
      "\n",
      " [[ 0.  0.  0.  0.  0.]\n",
      "  [ 0.  0.  0.  0.  0.]\n",
      "  [ 0.  0.  0.  0.  0.]\n",
      "  [ 0.  0.  0.  0.  0.]]\n",
      "\n",
      " [[ 0.  0.  0.  0.  0.]\n",
      "  [ 0.  0.  0.  0.  0.]\n",
      "  [ 0.  0.  0.  0.  0.]\n",
      "  [ 0.  0.  0.  0.  0.]]\n",
      "\n",
      " [[ 0.  0.  0.  0.  0.]\n",
      "  [ 0.  0.  0.  0.  0.]\n",
      "  [ 0.  0.  0.  0.  0.]\n",
      "  [ 0.  0.  0.  0.  0.]]\n",
      "\n",
      " [[ 0.  0.  0.  0.  0.]\n",
      "  [ 0.  0.  0.  0.  0.]\n",
      "  [ 0.  0.  0.  0.  0.]\n",
      "  [ 0.  0.  0.  0.  0.]]]\n"
     ]
    }
   ],
   "source": [
    "fart = numpy.zeros((N_seg,4,5),dtype=float)\n",
    "fart[0,0,:] = 1\n",
    "fart[4,:,:] = 7\n",
    "print(fart)"
   ]
  },
  {
   "cell_type": "code",
   "execution_count": null,
   "metadata": {
    "collapsed": true
   },
   "outputs": [],
   "source": []
  }
 ],
 "metadata": {
  "kernelspec": {
   "display_name": "Python 3",
   "language": "python",
   "name": "python3"
  },
  "language_info": {
   "codemirror_mode": {
    "name": "ipython",
    "version": 3
   },
   "file_extension": ".py",
   "mimetype": "text/x-python",
   "name": "python",
   "nbconvert_exporter": "python",
   "pygments_lexer": "ipython3",
   "version": "3.4.4"
  }
 },
 "nbformat": 4,
 "nbformat_minor": 0
}
