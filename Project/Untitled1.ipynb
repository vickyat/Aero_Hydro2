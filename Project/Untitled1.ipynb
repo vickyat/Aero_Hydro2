{
 "cells": [
  {
   "cell_type": "code",
   "execution_count": 1,
   "metadata": {
    "collapsed": true
   },
   "outputs": [],
   "source": [
    "import numpy\n",
    "from matplotlib import pyplot\n",
    "%matplotlib inline"
   ]
  },
  {
   "cell_type": "code",
   "execution_count": 2,
   "metadata": {
    "collapsed": false
   },
   "outputs": [
    {
     "name": "stdout",
     "output_type": "stream",
     "text": [
      "10\n",
      "[-0.13923317  0.          0.          0.          0.          0.          0.\n",
      "  0.          0.          0.        ]\n",
      "end 1, number of iterations: 24\n",
      "[-0.13923317  0.01047944  0.          0.          0.          0.          0.\n",
      "  0.          0.          0.        ]\n",
      "end 2, number of iterations: 19\n",
      "[-0.13923317  0.01047944  0.01451309  0.          0.          0.          0.\n",
      "  0.          0.          0.        ]\n",
      "end 3, number of iterations: 23\n",
      "[-0.13923317  0.01047944  0.01451309  0.01810388  0.          0.          0.\n",
      "  0.          0.          0.        ]\n",
      "end 4, number of iterations: 28\n",
      "[-0.13923317  0.01047944  0.01451309  0.01810388  0.02133371  0.          0.\n",
      "  0.          0.          0.        ]\n",
      "end 5, number of iterations: 32\n",
      "[-0.13923317  0.01047944  0.01451309  0.01810388  0.02133371  0.02426389\n",
      "  0.          0.          0.          0.        ]\n",
      "end 6, number of iterations: 35\n",
      "[-0.13923317  0.01047944  0.01451309  0.01810388  0.02133371  0.02426389\n",
      "  0.02694152  0.          0.          0.        ]\n",
      "end 7, number of iterations: 38\n",
      "[-0.13923317  0.01047944  0.01451309  0.01810388  0.02133371  0.02426389\n",
      "  0.02694152  0.02940356  0.          0.        ]\n",
      "end 8, number of iterations: 40\n",
      "[-0.13923317  0.01047944  0.01451309  0.01810388  0.02133371  0.02426389\n",
      "  0.02694152  0.02940356  0.03167954  0.        ]\n",
      "end 9, number of iterations: 43\n",
      "[-0.13923317  0.01047944  0.01451309  0.01810388  0.02133371  0.02426389\n",
      "  0.02694152  0.02940356  0.03167954  0.03379341]\n"
     ]
    }
   ],
   "source": [
    "c = 1\n",
    "collective = 8.0/180*numpy.pi\n",
    "cyclic = 0.0\n",
    "D = 4.6\n",
    "R = D/2\n",
    "RPM = 4600    #Rev/min\n",
    "tc = 0.12*c   #thickness to chord ratio\n",
    "rho = 1.225\n",
    "n = RPM/60.0    #rev/sec\n",
    "omega = n*2*numpy.pi    #rad/sec\n",
    "\n",
    "N_seg = 10\n",
    "N_blades = 2\n",
    "r = numpy.linspace(0.1*R, 0.95*R, N_seg)\n",
    "V = 0.0    #forward velocity\n",
    "tilt = 0.0/180*numpy.pi\n",
    "Vc = 0.0    #climb speed\n",
    "vflap = 0.0    #max flap vel\n",
    "thrust = 0.0\n",
    "torque = 0.0\n",
    "Mx = 0.0\n",
    "My = 0.0\n",
    "alpha = numpy.zeros_like(r)\n",
    "V1 = numpy.zeros_like(r)\n",
    "print(len(r))\n",
    "for i in range(len(r)):\n",
    "    psi = numpy.pi/(N_seg/2)*r[i] - numpy.pi/N_seg\n",
    "    theta = collective+ cyclic*numpy.cos(psi)\n",
    "    Vi = 2.0   #initial guess for induced velocity\n",
    "    check = False\n",
    "    target = 1e-5\n",
    "    iterations = 0\n",
    "    conva = 100\n",
    "    convb = 100\n",
    "    \n",
    "    while check == False:\n",
    "        V0 = Vi +Vc +V*numpy.sin(tilt) + vflap*r[i]*numpy.sin(psi)\n",
    "        V2 = omega*r[i] + V*numpy.cos(tilt)*numpy.sin(psi)\n",
    "        phi = numpy.arctan2(V0,V2)\n",
    "        al = theta-phi\n",
    "        cl = 5.73*al\n",
    "        cd = 0.0002*(al)**2 + 0.01\n",
    "        Vlocal = numpy.sqrt(V0**2+V2**2)\n",
    "        DtDr = 0.5*rho*Vlocal**2*N_blades*c*(cl*numpy.cos(phi)-cd*numpy.sin(phi))/N_seg\n",
    "        DqDr = 0.5*rho*Vlocal**2*N_blades*c*r[i]*(cd*numpy.cos(phi)+cl*numpy.sin(phi))/N_seg\n",
    "        mom1 = DtDr/(numpy.pi/4.0*r[i]*rho*V0)\n",
    "        Vinew = 0.9*Vi + 0.1*mom1\n",
    "        if Vinew <0:\n",
    "            Vinew=0\n",
    "        \n",
    "        iterations += 1\n",
    "        \n",
    "        if numpy.absolute(Vinew-Vi) < target:\n",
    "            check = True\n",
    "            print('end {}, number of iterations: {}'.format(i,iterations)) \n",
    "        \n",
    "        Vi = Vinew\n",
    "        if iterations > 20000:\n",
    "            break          \n",
    "        \n",
    "    V0 = Vi+Vc+V*numpy.sin(tilt)+vflap*r[i]*numpy.sin(psi)\n",
    "    V2 = omega*r[i]+V*numpy.cos(tilt)*numpy.sin(psi)\n",
    "    V1[i] = numpy.sqrt(V0**2+V2**2)\n",
    "    phi = float(numpy.arctan2(V0,V2))\n",
    "    alpha[i] = theta-numpy.arctan2(V0,V2)\n",
    "    print(alpha)"
   ]
  },
  {
   "cell_type": "code",
   "execution_count": null,
   "metadata": {
    "collapsed": true
   },
   "outputs": [],
   "source": []
  }
 ],
 "metadata": {
  "kernelspec": {
   "display_name": "Python 3",
   "language": "python",
   "name": "python3"
  },
  "language_info": {
   "codemirror_mode": {
    "name": "ipython",
    "version": 3
   },
   "file_extension": ".py",
   "mimetype": "text/x-python",
   "name": "python",
   "nbconvert_exporter": "python",
   "pygments_lexer": "ipython3",
   "version": "3.4.4"
  }
 },
 "nbformat": 4,
 "nbformat_minor": 0
}
