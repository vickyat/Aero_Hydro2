{
 "cells": [
  {
   "cell_type": "code",
   "execution_count": 26,
   "metadata": {
    "collapsed": true
   },
   "outputs": [],
   "source": [
    "import numpy\n",
    "from matplotlib import pyplot\n",
    "%matplotlib inline"
   ]
  },
  {
   "cell_type": "code",
   "execution_count": 27,
   "metadata": {
    "collapsed": false
   },
   "outputs": [
    {
     "name": "stdout",
     "output_type": "stream",
     "text": [
      "0.23\n"
     ]
    }
   ],
   "source": [
    "RPM = 4600  #[rev/min]\n",
    "n = RPM/60  #[rev/s]\n",
    "omega = n*2*numpy.pi  #rad/s\n",
    "P = 40  #[hp]\n",
    "Vmax = 121*1000/60/60  #[m/s]\n",
    "H = 0.0\n",
    "T = 0.12\n",
    "rho = 1.225  \n",
    "D = 4.6 \n",
    "R = D/2.0\n",
    "p = 1\n",
    "N_blade_seg = 10\n",
    "N_blades = 2\n",
    "c=1\n",
    "u_inf = 1\n",
    "\n",
    "r = numpy.linspace(0.1*R,R,N_blade_seg)\n",
    "alpha = numpy.zeros_like(r)\n",
    "V1 = numpy.zeros_like(r)\n",
    "print(r[0])"
   ]
  },
  {
   "cell_type": "code",
   "execution_count": 28,
   "metadata": {
    "collapsed": false
   },
   "outputs": [
    {
     "name": "stdout",
     "output_type": "stream",
     "text": [
      "0.605321766305\n",
      "1.56477929007\n",
      "1.00001903555\n",
      "90.0000295323\n",
      "1.0\n",
      "converge 1.9035554143398414e-05\n",
      "False\n",
      "1.0\n",
      "90.0\n",
      "1.0\n",
      "converge 1.3877787807814457e-13\n",
      "end 0, number of iterations: 2\n",
      "True\n"
     ]
    }
   ],
   "source": [
    "for i in range(1):    \n",
    "    theta = numpy.arctan2(p,(2*numpy.pi*r[i]))\n",
    "    print(theta)\n",
    "    target = 1e-5\n",
    "    convergencea = 100\n",
    "    convergenceb = 100\n",
    "    iterations = 0\n",
    "    ratio = omega*r[i]/u_inf\n",
    "    beta = numpy.pi/2-(2/3*numpy.arctan2(1,ratio))\n",
    "    print((beta))\n",
    "    check = False\n",
    "    solidity = N_blades*c/(2*numpy.pi*r[i])     #how much of propeller disk do blades take up\n",
    "        #local tip speed ratio\n",
    "    alpha = theta - beta\n",
    "    cl = 0.1*numpy.degrees(alpha)\n",
    "    aa = 1/(1+(4*numpy.cos(beta)**2/(solidity*cl*numpy.sin(beta))))\n",
    "    bb = (1-3*aa)/(4*aa-1)\n",
    "    \n",
    "    while check == False:\n",
    "        print(aa)\n",
    "        beta = numpy.arctan2(ratio*(1+bb),(1-aa))\n",
    "        print(numpy.degrees(beta))\n",
    "        alpha = theta - beta\n",
    "        cl = 0.1*numpy.degrees(alpha)\n",
    "        anew = 1/(1+(4*(numpy.cos(beta))**2/(solidity*cl*numpy.sin(beta))))\n",
    "        bnew = (1-(3*aa))/((4*aa)-1)\n",
    "        print(anew)\n",
    "        convergencea = numpy.absolute(anew-aa)\n",
    "        convergenceb = numpy.absolute(bnew-bb)\n",
    "        print('converge {}'.format(convergencea))\n",
    "        iterations += 1\n",
    "    \n",
    "        \n",
    "    \n",
    "        if convergencea < target:\n",
    "            if convergenceb < target:\n",
    "                print('end {}, number of iterations: {}'.format(i,iterations)  ) \n",
    "                check =True\n",
    "        print(check)\n",
    "        \n",
    "        aa=anew\n",
    "        bb=bnew\n",
    "        \n",
    "        #if iterations > 20:\n",
    "            #break\n",
    "    #print(aa,iterations)\n",
    "    "
   ]
  },
  {
   "cell_type": "code",
   "execution_count": null,
   "metadata": {
    "collapsed": true
   },
   "outputs": [],
   "source": []
  },
  {
   "cell_type": "code",
   "execution_count": null,
   "metadata": {
    "collapsed": true
   },
   "outputs": [],
   "source": []
  }
 ],
 "metadata": {
  "kernelspec": {
   "display_name": "Python 3",
   "language": "python",
   "name": "python3"
  },
  "language_info": {
   "codemirror_mode": {
    "name": "ipython",
    "version": 3
   },
   "file_extension": ".py",
   "mimetype": "text/x-python",
   "name": "python",
   "nbconvert_exporter": "python",
   "pygments_lexer": "ipython3",
   "version": "3.4.4"
  }
 },
 "nbformat": 4,
 "nbformat_minor": 0
}
