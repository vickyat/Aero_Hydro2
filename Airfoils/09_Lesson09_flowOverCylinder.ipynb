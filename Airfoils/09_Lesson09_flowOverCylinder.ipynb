{
 "cells": [
  {
   "cell_type": "raw",
   "metadata": {},
   "source": [
    "Content provided under a Creative Commons Attribution license, CC-BY 4.0; code under MIT License. (c)2014 Lorena A. Barba, Olivier Mesnard. Thanks: NSF for support via CAREER award #1149784."
   ]
  },
  {
   "cell_type": "markdown",
   "metadata": {},
   "source": [
    "##### Version 0.2 -- March 2014"
   ]
  },
  {
   "cell_type": "markdown",
   "metadata": {},
   "source": [
    "# Flow over a cylinder with source-panels"
   ]
  },
  {
   "cell_type": "markdown",
   "metadata": {},
   "source": [
    "In previous lessons, we used potential-flow singularities of defined strength to represent the shape of simple geometries, such as a [Rankine oval](http://nbviewer.ipython.org/github/barbagroup/AeroPython/blob/master/lessons/02_Lesson02_sourceSinkFreestream.ipynb) or a [circular cylinder](http://nbviewer.ipython.org/github/barbagroup/AeroPython/blob/master/lessons/03_Lesson03_doublet.ipynb), immersed in a free stream. We were rather lucky that when superposing a few fundamental potential-flow solutions, the stream-line pattern that resulted had a closed dividing stream line that we could interpret as a solid body.\n",
    "\n",
    "But what if we want to represent the stream lines around an *arbitrary* geometry? Would you be able to define the combination of fundamental solutions to get the expected result? *How could you do that?* Trial and error? It would take enormous luck and a lot of work to get a geometry we want.\n",
    "\n",
    "In this lesson, the objective is to calculate the source-strength distribution that can produce potential flow around a given geometry: a circular cylinder. We know that we can get the flow around a cylider by superposing a doublet in a free stream, but here we want to develop a more general approach that can later be extended to *different* shapes.\n",
    "\n",
    "The method we will use consists of representing the geometry of the body by a series of short linear segments, called *panels*, that correspond to [source sheets](http://nbviewer.ipython.org/github/barbagroup/AeroPython/blob/master/lessons/08_Lesson08_sourceSheet.ipynb) like we studied in the previous lesson.\n",
    "\n",
    "What we are aiming for is a method that starts with a defined body geometry, then works out the strength of sources needed in each panel representing that geometry to get a dividing streamline right on the body boundary. We will have to *solve* for the source strengths by specifying that the body be a streamline, i.e., the velocity be tangent there.\n",
    "\n",
    "Let's start by loading the Python libraries that we will need in this notebook."
   ]
  },
  {
   "cell_type": "code",
   "execution_count": 1,
   "metadata": {
    "collapsed": false
   },
   "outputs": [],
   "source": [
    "import math\n",
    "import numpy\n",
    "from scipy import integrate\n",
    "from matplotlib import pyplot"
   ]
  },
  {
   "cell_type": "markdown",
   "metadata": {},
   "source": [
    "We will add a uniform horizontal flow of magnitude `u_inf`, so let's make that equal to 1:"
   ]
  },
  {
   "cell_type": "code",
   "execution_count": 2,
   "metadata": {
    "collapsed": false
   },
   "outputs": [],
   "source": [
    "u_inf = 1.0             # free-stream speed"
   ]
  },
  {
   "cell_type": "markdown",
   "metadata": {},
   "source": [
    "### Definition of the geometry"
   ]
  },
  {
   "cell_type": "markdown",
   "metadata": {},
   "source": [
    "The geometry considered here will be a circular cylinder of unit radius. We can define this geometry very easily by a set of points going around the angular range between $0$ and $2\\pi$."
   ]
  },
  {
   "cell_type": "code",
   "execution_count": 3,
   "metadata": {
    "collapsed": false
   },
   "outputs": [
    {
     "data": {
      "image/png": "[encoded data removed]",
      "text/plain": [
       "<matplotlib.figure.Figure at 0x7f9d4b0d8b70>"
      ]
     },
     "metadata": {},
     "output_type": "display_data"
    }
   ],
   "source": [
    "# defines the cylinder\n",
    "R = 1.0                                                     # radius\n",
    "theta = numpy.linspace(0, 2*math.pi, 100)                           # angles in radians\n",
    "x_cylinder, y_cylinder = R*numpy.cos(theta), R*numpy.sin(theta)   # coordinates of the cylinder\n",
    "\n",
    "# plots the cylinder\n",
    "%matplotlib inline\n",
    "\n",
    "size = 4\n",
    "pyplot.figure(figsize=(size, size))\n",
    "pyplot.grid(True)\n",
    "pyplot.xlabel('x', fontsize=16)\n",
    "pyplot.ylabel('y', fontsize=16)\n",
    "pyplot.plot(x_cylinder, y_cylinder, color='b', linestyle='-', linewidth=2)\n",
    "pyplot.xlim(-1.1, 1.1)\n",
    "pyplot.ylim(-1.1, 1.1);"
   ]
  },
  {
   "cell_type": "markdown",
   "metadata": {},
   "source": [
    "### Discretization into panels"
   ]
  },
  {
   "cell_type": "markdown",
   "metadata": {},
   "source": [
    "A panel, which represents a source sheet, is defined by its two end-points (`xa`, `ya`) and (`xb`, `yb`) and its strength `sigma`. We'll also need its center point (`xc`, `yc`) and its length for further calculations. The orientation of the panel is defined by the angle between the $x$-axis and its normal in the counter-clockwise sense.\n",
    "\n",
    "What information do we need to compute on each panel? First of all, we will need the strength of the source sheet that will lead to the correct streamlines. In addition, we'll also want the tangential velocity (the normal velocity on the body is zero for an inviscid flow) and the pressure coefficient.\n",
    "\n",
    "In this lesson, you'll really appreciate having learned about classes. It will make the code so much easier to manage. We create a class named `Panel` containing all the geometry data related to one panel. With a start- and end-point, the class internally calculates the center-point, length and normal vector. It also initializes to zero the source strength, tangential velocity and pressure coefficient. (These will be updated later.)"
   ]
  },
  {
   "cell_type": "code",
   "execution_count": 4,
   "metadata": {
    "collapsed": false
   },
   "outputs": [],
   "source": [
    "class Panel:\n",
    "    \"\"\"Contains information related to a panel.\"\"\"\n",
    "    def __init__(self, xa, ya, xb, yb):\n",
    "        \"\"\"Initializes the panel.\n",
    "        \n",
    "        Arguments\n",
    "        ---------\n",
    "        xa, ya -- coordinates of the first end-point of the panel.\n",
    "        xb, yb -- coordinates of the second end-point of the panel.\n",
    "        \"\"\"\n",
    "        self.xa, self.ya = xa, ya\n",
    "        self.xb, self.yb = xb, yb\n",
    "        \n",
    "        self.xc, self.yc = (xa+xb)/2, (ya+yb)/2       # control-point (center-point)\n",
    "        self.length = math.sqrt((xb-xa)**2+(yb-ya)**2)     # length of the panel\n",
    "        \n",
    "        # orientation of the panel (angle between x-axis and panel's normal)\n",
    "        if xb-xa <= 0.:\n",
    "            self.beta = math.acos((yb-ya)/self.length)\n",
    "        elif xb-xa > 0.:\n",
    "            self.beta = math.pi + math.acos(-(yb-ya)/self.length)\n",
    "        \n",
    "        self.sigma = 0.                             # source strength\n",
    "        self.vt = 0.                                # tangential velocity\n",
    "        self.cp = 0.                                # pressure coefficient"
   ]
  },
  {
   "cell_type": "markdown",
   "metadata": {},
   "source": [
    "To store all the discretization, we create a NumPy array of size `N_panels` where each item in the array is an object of type `Panel`."
   ]
  },
  {
   "cell_type": "code",
   "execution_count": 5,
   "metadata": {
    "collapsed": false
   },
   "outputs": [
    {
     "data": {
      "image/png": "[encoded data removed]",
      "text/plain": [
       "<matplotlib.figure.Figure at 0x7f9d4b0d81d0>"
      ]
     },
     "metadata": {},
     "output_type": "display_data"
    }
   ],
   "source": [
    "N_panels = 10                    # number of panels desired\n",
    "\n",
    "# defining the end-points of the panels\n",
    "x_ends = R*numpy.cos(numpy.linspace(0, 2*math.pi, N_panels+1))\n",
    "y_ends = R*numpy.sin(numpy.linspace(0, 2*math.pi, N_panels+1))\n",
    "\n",
    "# defining the panels\n",
    "panels = numpy.empty(N_panels, dtype=object)\n",
    "for i in range(N_panels):\n",
    "    panels[i] = Panel(x_ends[i], y_ends[i], x_ends[i+1], y_ends[i+1])\n",
    "    \n",
    "# plotting the panels\n",
    "size = 6\n",
    "pyplot.figure(figsize=(size, size))\n",
    "pyplot.grid(True)\n",
    "pyplot.xlabel('x', fontsize=16)\n",
    "pyplot.ylabel('y', fontsize=16)\n",
    "pyplot.plot(x_cylinder, y_cylinder, color='b', linestyle='-', linewidth=1)\n",
    "pyplot.plot(x_ends, y_ends, color='#CD2305', linestyle='-', linewidth=2)\n",
    "pyplot.scatter([p.xa for p in panels], [p.ya for p in panels], color='#CD2305', s=40)\n",
    "pyplot.scatter([p.xc for p in panels], [p.yc for p in panels], color='k', s=40, zorder=3)\n",
    "pyplot.legend(['cylinder', 'panels', 'end-points', 'center-points'], \n",
    "           loc='best', prop={'size':16})\n",
    "pyplot.xlim(-1.1, 1.1)\n",
    "pyplot.ylim(-1.1, 1.1);"
   ]
  },
  {
   "cell_type": "markdown",
   "metadata": {},
   "source": [
    "### Flow-tangency boundary condition"
   ]
  },
  {
   "cell_type": "markdown",
   "metadata": {},
   "source": [
    "In [Lesson 1](http://nbviewer.ipython.org/github/barbagroup/AeroPython/blob/master/lessons/01_Lesson01_sourceSink.ipynb), you worked out the velocity potential of a single source as part of the final *Challenge  Task.* It followed simply from integrating the radial velocity, $u_r=\\frac{\\sigma}{2\\pi r}$, that\n",
    "\n",
    "$$\\phi=\\frac{\\sigma}{2\\pi}\\ln r$$\n",
    "\n",
    "(The integration also gives a function of $\\theta$ that is seen to be a constant because $u_{\\theta}=0$; we take this constant to be zero.)\n",
    "\n",
    "We will use the velocity potential in this lesson to easily express that the velocity be tangent at the panel, i.e., that $u_n=0$ with:\n",
    "\n",
    "$$u_n(x,y)=\\frac{\\partial \\phi}{\\partial n}(x,y)$$\n",
    "\n",
    "at a given point on the panel. We choose the point to enforce that velocity-tangency condition as the center of the panel (and we call it the *control point*).\n",
    "\n",
    "The velocity potential in Cartesian coordinates of a [source sheet](http://nbviewer.ipython.org/urls/github.com/barbagroup/AeroPython/blob/master/lessons/08_Lesson08_sourceSheet.ipynb) on a panel is\n",
    "\n",
    "$$\\phi\\left(x,y\\right) = \\frac{\\sigma}{2\\pi} \\int_\\text{panel} \\ln \\sqrt{ \\left(x-x(s)\\right)^2 + \\left(y-y(s)\\right)^2 } {\\rm d}s$$\n",
    "\n",
    "where $s$ is the running coordinate along the panel and $\\left(x(s),y(s)\\right)$ are the Cartesian coordinates of $s$.\n",
    "\n",
    "Superposition of the potential of each panel gives the total potential at any point $\\left(x,y\\right)$, so we make a sum of all the panel contributions as follows (moving the $\\frac{1}{2}$ exponent in the logarithmic term as a factor outside the integral):\n",
    "\n",
    "$$\\phi\\left(x,y\\right) = \\sum_{j=1}^{N_p} \\frac{\\sigma_j}{4\\pi} \\int \\ln \\left( \\left(x-x_j(s_j)\\right)^2 + \\left(y-y_j(s_j)\\right)^2 \\right) {\\rm d}s_j$$\n",
    "\n",
    "By finally superposing the free stream, the flow around an immersed circular cylinder will be represented by the following velocity potential:\n",
    "\n",
    "$$\\phi\\left(x,y\\right) = U_\\infty x + \\sum_{j=1}^{N_p} \\frac{\\sigma_j}{4\\pi} \\int \\ln \\left( \\left(x-x_j(s_j)\\right)^2 + \\left(y-y_j(s_j)\\right)^2 \\right) {\\rm d}s_j$$"
   ]
  },
  {
   "cell_type": "markdown",
   "metadata": {},
   "source": [
    "Enforcing the flow-tangency condition on each *control point* approximately makes the body geometry correspond to a dividing streamline (and the approximation improves if we represented the body with more and more panels). So, for each panel $i$, we make $u_n=0$ at $(x_{c_i},y_{c_i})$:\n",
    "\n",
    "$$u_{n_i} = \\frac{\\partial}{\\partial n_i}\\left\\lbrace \\phi\\left(x_{c_i},y_{c_i}\\right) \\right\\rbrace = 0$$\n",
    "\n",
    "which leads to\n",
    "\n",
    "$$0 = U_\\infty \\cos\\beta_i + \\sum_{j=1}^{N_p} \\frac{\\sigma_j}{2\\pi} \\int \\frac{\n",
    "\\left(x_{c_i}-x_j(s_j)\\right) \\frac{\\partial x_{c_i}}{\\partial n_i}\n",
    "+ \\left(y_{c_i}-y_j(s_j)\\right) \\frac{\\partial y_{c_i}}{\\partial n_i}\n",
    "}\n",
    "{\\left(x_{c_i}-x_j(s)\\right)^2 + \\left(y_{c_i}-y_j(s)\\right)^2} {\\rm d}s_j$$\n",
    "\n",
    "where $\\beta_i$ is the angle that the panel's normal makes with the $x$-axis, so\n",
    "\n",
    "$$\\frac{\\partial x_{c_i}}{\\partial n_i} = \\cos\\beta_i \\quad \\text{and}\\quad\\frac{\\partial y_{c_i}}{\\partial n_i} = \\sin\\beta_i$$\n",
    "\n",
    "and\n",
    "\n",
    "$$x_j(s_j) = x_{a_j} - \\sin\\left(\\beta_j\\right) s_j$$\n",
    "$$y_j(s_j) = y_{a_j} + \\cos\\left(\\beta_j\\right) s_j$$\n",
    "\n",
    "But, there is still a problem to handle when $i=j$. From the previous notebook, we have seen that the stength of the [source sheet](http://nbviewer.ipython.org/github/barbagroup/AeroPython/blob/master/lessons/08_Lesson08_sourceSheet.ipynb) should be a specific value so that the streamlines do not penetrate the panel. This helps us determine that the contribution of the $i$-th panel to itself is $\\frac{\\sigma_i}{2}$.\n",
    "\n",
    "Finally, the boundary condition at the center point of the $i$-th panel gives\n",
    "\n",
    "$$0 = U_\\infty \\cos\\beta_i + \\frac{\\sigma_i}{2} + \\sum_{j=1,j\\neq i}^{N_p} \\frac{\\sigma_j}{2\\pi} \\int \\frac{\n",
    "\\left(x_{c_i}-x_j(s_j)\\right) \\cos\\beta_i\n",
    "+ \\left(y_{c_i}-y_j(s_j)\\right) \\sin\\beta_i\n",
    "}\n",
    "{\\left(x_{c_i}-x_j(s)\\right)^2 + \\left(y_{c_i}-y_j(s)\\right)^2} {\\rm d}s_j$$\n",
    "\n",
    "From the equation above, we understand that we will have to compute integrals using the SciPy function `integrate.quad()`. We define a function `integral_normal()` that will do the job."
   ]
  },
  {
   "cell_type": "code",
   "execution_count": 6,
   "metadata": {
    "collapsed": false
   },
   "outputs": [],
   "source": [
    "def integral_normal(p_i, p_j):\n",
    "    \"\"\"Evaluates the contribution of a panel at the center-point of another,\n",
    "    in the normal direction.\n",
    "    \n",
    "    Arguments\n",
    "    ---------\n",
    "    p_i -- panel on which the contribution is calculated.\n",
    "    p_j -- panel from which the contribution is calculated.\n",
    "    \n",
    "    Returns\n",
    "    -------\n",
    "    Integral over the panel of the influence at a control-point.\n",
    "    \"\"\"\n",
    "    def func(s):\n",
    "        return ( (+(p_i.xc-(p_j.xa-math.sin(p_j.beta)*s))*math.cos(p_i.beta)\n",
    "                  +(p_i.yc-(p_j.ya+math.cos(p_j.beta)*s))*math.sin(p_i.beta))\n",
    "                /((p_i.xc-(p_j.xa-math.sin(p_j.beta)*s))**2\n",
    "                  +(p_i.yc-(p_j.ya+math.cos(p_j.beta)*s))**2) )\n",
    "    return integrate.quad(lambda s:func(s), 0., p_j.length)[0]"
   ]
  },
  {
   "cell_type": "markdown",
   "metadata": {},
   "source": [
    "### Solving the system of equations"
   ]
  },
  {
   "cell_type": "markdown",
   "metadata": {},
   "source": [
    "We just developed an equation to enforce a flow-tangency condition on the $i$-th panel. There are `N_panels` panels $i$ and `N_panels` unknown strengths $\\sigma_i$. Therefore, the problem represents solving a linear system of equations of the form\n",
    "\n",
    "$$[A][\\sigma] = [b]$$\n",
    "\n",
    "where\n",
    "\n",
    "$$A_{ij} = \\begin{cases}\n",
    "\\begin{matrix}\n",
    "\\frac{1}{2} & \\mbox{, if } i=j \\cr\n",
    "\\frac{1}{2\\pi} \\int \\frac{\n",
    "\\left(x_{c_i}-x_j(s_j)\\right) \\cos\\beta_i\n",
    "+ \\left(y_{c_i}-y_j(s_j)\\right) \\sin\\beta_i\n",
    "}\n",
    "{\\left(x_{c_i}-x_j(s)\\right)^2 + \\left(y_{c_i}-y_j(s)\\right)^2} ds_j & \\mbox{, if } i\\neq j\n",
    "\\end{matrix}\n",
    "\\end{cases}$$\n",
    "\n",
    "and\n",
    "\n",
    "$$b_i = - U_\\infty \\cos\\beta_i$$\n",
    "\n",
    "for $1\\leq i,j \\leq N_p$. Let's fill a matrix $A$ and a right-hand-side vector $b$ with the necessary values:"
   ]
  },
  {
   "cell_type": "code",
   "execution_count": 7,
   "metadata": {
    "collapsed": false
   },
   "outputs": [
    {
     "data": {
      "text/plain": [
       "(array([[ 0.5       ,  0.04428288,  0.05029841,  0.05101164,  0.05121503,\n",
       "          0.05126469,  0.05121503,  0.05101164,  0.05029841,  0.04428288],\n",
       "        [ 0.04428288,  0.5       ,  0.04428288,  0.05029841,  0.05101164,\n",
       "          0.05121503,  0.05126469,  0.05121503,  0.05101164,  0.05029841],\n",
       "        [ 0.05029841,  0.04428288,  0.5       ,  0.04428288,  0.05029841,\n",
       "          0.05101164,  0.05121503,  0.05126469,  0.05121503,  0.05101164],\n",
       "        [ 0.05101164,  0.05029841,  0.04428288,  0.5       ,  0.04428288,\n",
       "          0.05029841,  0.05101164,  0.05121503,  0.05126469,  0.05121503],\n",
       "        [ 0.05121503,  0.05101164,  0.05029841,  0.04428288,  0.5       ,\n",
       "          0.04428288,  0.05029841,  0.05101164,  0.05121503,  0.05126469],\n",
       "        [ 0.05126469,  0.05121503,  0.05101164,  0.05029841,  0.04428288,\n",
       "          0.5       ,  0.04428288,  0.05029841,  0.05101164,  0.05121503],\n",
       "        [ 0.05121503,  0.05126469,  0.05121503,  0.05101164,  0.05029841,\n",
       "          0.04428288,  0.5       ,  0.04428288,  0.05029841,  0.05101164],\n",
       "        [ 0.05101164,  0.05121503,  0.05126469,  0.05121503,  0.05101164,\n",
       "          0.05029841,  0.04428288,  0.5       ,  0.04428288,  0.05029841],\n",
       "        [ 0.05029841,  0.05101164,  0.05121503,  0.05126469,  0.05121503,\n",
       "          0.05101164,  0.05029841,  0.04428288,  0.5       ,  0.04428288],\n",
       "        [ 0.04428288,  0.05029841,  0.05101164,  0.05121503,  0.05126469,\n",
       "          0.05121503,  0.05101164,  0.05029841,  0.04428288,  0.5       ]]),\n",
       " array([ -9.51056516e-01,  -5.87785252e-01,  -2.83276945e-16,\n",
       "          5.87785252e-01,   9.51056516e-01,   9.51056516e-01,\n",
       "          5.87785252e-01,   1.83697020e-16,  -5.87785252e-01,\n",
       "         -9.51056516e-01]))"
      ]
     },
     "execution_count": 7,
     "metadata": {},
     "output_type": "execute_result"
    }
   ],
   "source": [
    "# computes the source influence matrix\n",
    "A = numpy.empty((N_panels, N_panels), dtype=float)\n",
    "numpy.fill_diagonal(A, 0.5)\n",
    "\n",
    "for i, p_i in enumerate(panels):\n",
    "    for j, p_j in enumerate(panels):\n",
    "        if i != j:\n",
    "            A[i,j] = 0.5/math.pi*integral_normal(p_i, p_j)\n",
    "\n",
    "# computes the RHS of the linear system\n",
    "b = - u_inf * numpy.cos([p.beta for p in panels])\n",
    "A,b"
   ]
  },
  {
   "cell_type": "markdown",
   "metadata": {},
   "source": [
    "Hey! We just used a new Python built-in function: [enumerate()](https://docs.python.org/2/library/functions.html#enumerate). It allows us to have access to each element `panel` in the array `panels` while keeping a count `i` (that starts from `0`) to locate the element of `A` to fill."
   ]
  },
  {
   "cell_type": "markdown",
   "metadata": {},
   "source": [
    "Now, we can easily solve the linear system of equations using the function [`linalg.solve()`](http://docs.scipy.org/doc/numpy/reference/generated/numpy.linalg.solve.html) from NumPy, and assign each source-panel its appropriate strength:"
   ]
  },
  {
   "cell_type": "code",
   "execution_count": 8,
   "metadata": {
    "collapsed": false
   },
   "outputs": [
    {
     "data": {
      "text/plain": [
       "array([ -2.17594204e+00,  -1.34480614e+00,  -1.10064461e-15,\n",
       "         1.34480614e+00,   2.17594204e+00,   2.17594204e+00,\n",
       "         1.34480614e+00,   4.28398518e-16,  -1.34480614e+00,\n",
       "        -2.17594204e+00])"
      ]
     },
     "execution_count": 8,
     "metadata": {},
     "output_type": "execute_result"
    }
   ],
   "source": [
    "# solves the linear system\n",
    "sigma = numpy.linalg.solve(A, b)\n",
    "\n",
    "for i, panel in enumerate(panels):\n",
    "    panel.sigma = sigma[i]\n",
    "sigma"
   ]
  },
  {
   "cell_type": "markdown",
   "metadata": {},
   "source": [
    "### Pressure coefficient on the surface"
   ]
  },
  {
   "cell_type": "markdown",
   "metadata": {},
   "source": [
    "At this point, we have the source strength distribution required to compute the streamlines around our geometry. A very useful measurement of the results is the pressure coefficient along the surface of the geometry.\n",
    "\n",
    "From Bernoulli's equation, the pressure coefficient on the $i$-th panel is\n",
    "\n",
    "$$C_{p_i} = 1-\\left(\\frac{u_{t_i}}{U_\\infty}\\right)^2$$\n",
    "\n",
    "where $u_{t_i}$ is the tangential component of the velocity at the center point of the $i$-th panel,\n",
    "\n",
    "$$u_{t_i} = \\frac{\\partial}{\\partial t_i}\\left\\lbrace \\phi\\left(x_{c_i},y_{c_i}\\right) \\right\\rbrace$$\n",
    "\n",
    "which we can obtain as:\n",
    "\n",
    "$$u_{t_i} = -U_\\infty \\sin\\beta_i + \\sum_{j=1}^{N_p} \\frac{\\sigma_j}{2\\pi} \\int \\frac{\n",
    "\\left(x_{c_i}-x_j(s_j)\\right) \\frac{\\partial x_{c_i}}{\\partial t_i}\n",
    "+ \\left(y_{c_i}-y_j(s_j)\\right) \\frac{\\partial y_{c_i}}{\\partial t_i}\n",
    "}\n",
    "{\\left(x_{c_i}-x_j(s)\\right)^2 + \\left(y_{c_i}-y_j(s)\\right)^2} {\\rm d}s_j$$\n",
    "\n",
    "with\n",
    "\n",
    "$$\\frac{\\partial x_{c_i}}{\\partial t_i} = -\\sin\\beta_i \\quad\\text{and} \\quad \\frac{\\partial y_{c_i}}{\\partial t_i} = \\cos\\beta_i$$\n",
    "\n",
    "Note that the contribution to the tangential velocity at a source panel from its own velocity potential is zero, which makes sense because streamlines go *outwards* from a source.\n",
    "\n",
    "We define a function `integral_tangential()` that will compute the integrals above using the SciPy function `integrate.quad()` once again:"
   ]
  },
  {
   "cell_type": "code",
   "execution_count": 9,
   "metadata": {
    "collapsed": false
   },
   "outputs": [],
   "source": [
    "def integral_tangential(p_i, p_j):\n",
    "    \"\"\"Evaluates the contribution of a panel at the center-point of another,\n",
    "    in the tangential direction.\n",
    "    \n",
    "    Arguments\n",
    "    ---------\n",
    "    p_i -- panel on which the contribution is calculated.\n",
    "    p_j -- panel from which the contribution is calculated.\n",
    "    \n",
    "    Returns\n",
    "    -------\n",
    "    Integral over the panel of the influence at a control-point.\n",
    "    \"\"\"\n",
    "    def func(s):\n",
    "        return ( (-(p_i.xc-(p_j.xa-math.sin(p_j.beta)*s))*math.sin(p_i.beta)\n",
    "                  +(p_i.yc-(p_j.ya+math.cos(p_j.beta)*s))*math.cos(p_i.beta))\n",
    "                /((p_i.xc-(p_j.xa-math.sin(p_j.beta)*s))**2\n",
    "                  +(p_i.yc-(p_j.ya+math.cos(p_j.beta)*s))**2) )\n",
    "    return integrate.quad(lambda s:func(s),0.,p_j.length)[0]"
   ]
  },
  {
   "cell_type": "code",
   "execution_count": 12,
   "metadata": {
    "collapsed": false
   },
   "outputs": [
    {
     "data": {
      "text/plain": [
       "(array([[  0.00000000e+00,  -1.75227601e-01,  -7.29512946e-02,\n",
       "          -3.80566569e-02,  -1.69585624e-02,   9.78699580e-18,\n",
       "           1.69585624e-02,   3.80566569e-02,   7.29512946e-02,\n",
       "           1.75227601e-01],\n",
       "        [  1.75227601e-01,   0.00000000e+00,  -1.75227601e-01,\n",
       "          -7.29512946e-02,  -3.80566569e-02,  -1.69585624e-02,\n",
       "          -6.81425041e-18,   1.69585624e-02,   3.80566569e-02,\n",
       "           7.29512946e-02],\n",
       "        [  7.29512946e-02,   1.75227601e-01,   0.00000000e+00,\n",
       "          -1.75227601e-01,  -7.29512946e-02,  -3.80566569e-02,\n",
       "          -1.69585624e-02,   8.73194322e-18,   1.69585624e-02,\n",
       "           3.80566569e-02],\n",
       "        [  3.80566569e-02,   7.29512946e-02,   1.75227601e-01,\n",
       "           0.00000000e+00,  -1.75227601e-01,  -7.29512946e-02,\n",
       "          -3.80566569e-02,  -1.69585624e-02,  -4.72892242e-18,\n",
       "           1.69585624e-02],\n",
       "        [  1.69585624e-02,   3.80566569e-02,   7.29512946e-02,\n",
       "           1.75227601e-01,   0.00000000e+00,  -1.75227601e-01,\n",
       "          -7.29512946e-02,  -3.80566569e-02,  -1.69585624e-02,\n",
       "          -3.79696282e-18],\n",
       "        [  4.01531376e-18,   1.69585624e-02,   3.80566569e-02,\n",
       "           7.29512946e-02,   1.75227601e-01,   0.00000000e+00,\n",
       "          -1.75227601e-01,  -7.29512946e-02,  -3.80566569e-02,\n",
       "          -1.69585624e-02],\n",
       "        [ -1.69585624e-02,   3.19632500e-18,   1.69585624e-02,\n",
       "           3.80566569e-02,   7.29512946e-02,   1.75227601e-01,\n",
       "           0.00000000e+00,  -1.75227601e-01,  -7.29512946e-02,\n",
       "          -3.80566569e-02],\n",
       "        [ -3.80566569e-02,  -1.69585624e-02,   3.63623527e-18,\n",
       "           1.69585624e-02,   3.80566569e-02,   7.29512946e-02,\n",
       "           1.75227601e-01,   0.00000000e+00,  -1.75227601e-01,\n",
       "          -7.29512946e-02],\n",
       "        [ -7.29512946e-02,  -3.80566569e-02,  -1.69585624e-02,\n",
       "           1.63393385e-18,   1.69585624e-02,   3.80566569e-02,\n",
       "           7.29512946e-02,   1.75227601e-01,   0.00000000e+00,\n",
       "          -1.75227601e-01],\n",
       "        [ -1.75227601e-01,  -7.29512946e-02,  -3.80566569e-02,\n",
       "          -1.69585624e-02,   1.66420919e-18,   1.69585624e-02,\n",
       "           3.80566569e-02,   7.29512946e-02,   1.75227601e-01,\n",
       "           0.00000000e+00]]),\n",
       " array([-0.30901699, -0.80901699, -1.        , -0.80901699, -0.30901699,\n",
       "         0.30901699,  0.80901699,  1.        ,  0.80901699,  0.30901699]))"
      ]
     },
     "execution_count": 12,
     "metadata": {},
     "output_type": "execute_result"
    }
   ],
   "source": [
    "# computes the matrix of the linear system\n",
    "A = numpy.empty((N_panels, N_panels), dtype=float)\n",
    "numpy.fill_diagonal(A, 0.0)\n",
    "\n",
    "for i, p_i in enumerate(panels):\n",
    "    for j, p_j in enumerate(panels):\n",
    "        if i != j:\n",
    "            A[i,j] = 0.5/math.pi*integral_tangential(p_i, p_j)\n",
    "\n",
    "# computes the RHS of the linear system\n",
    "b = - u_inf * numpy.sin([panel.beta for panel in panels])\n",
    "\n",
    "# computes the tangential velocity at each panel center-point\n",
    "vt = numpy.dot(A, sigma) + b\n",
    "\n",
    "for i, panel in enumerate(panels):\n",
    "    panel.vt = vt[i]\n",
    "A,b"
   ]
  },
  {
   "cell_type": "markdown",
   "metadata": {},
   "source": [
    "Once we have computed the tangential velocity on each panel, we can calculate the pressure coefficient."
   ]
  },
  {
   "cell_type": "code",
   "execution_count": 11,
   "metadata": {
    "collapsed": false
   },
   "outputs": [],
   "source": [
    "# calculates the surface pressure coefficient\n",
    "for panel in panels:\n",
    "    panel.cp = 1.0 - (panel.vt/u_inf)**2"
   ]
  },
  {
   "cell_type": "markdown",
   "metadata": {},
   "source": [
    "Allright! It is time to plot the surface pressure coefficient.\n",
    "\n",
    "Just before this, we should remember that in the lesson on the [doublet](http://nbviewer.ipython.org/urls/github.com/barbagroup/AeroPython/blob/master/lessons/03_Lesson03_doublet.ipynb), we found that the exact pressure coeficient on the surface on a cylinder was\n",
    "\n",
    "$$Cp = 1 - 4\\sin^2 \\theta$$\n",
    "\n",
    "i.e.\n",
    "\n",
    "$$Cp = 1 - 4\\left(\\frac{y}{R}\\right)^2$$\n",
    "\n",
    "We can use this to compare with the results obtained with our source-panel code."
   ]
  },
  {
   "cell_type": "code",
   "execution_count": 12,
   "metadata": {
    "collapsed": false
   },
   "outputs": [
    {
     "data": {
      "image/png": "[encoded data removed]",
      "text/plain": [
       "<matplotlib.figure.Figure at 0x7f5081e3cb70>"
      ]
     },
     "metadata": {},
     "output_type": "display_data"
    }
   ],
   "source": [
    "# calculates the analytical surface pressure coefficient\n",
    "cp_analytical = 1.0 - 4*(y_cylinder/R)**2\n",
    "\n",
    "# plots the surface pressure coefficient\n",
    "pyplot.figure(figsize=(10, 6))\n",
    "pyplot.grid(True)\n",
    "pyplot.xlabel('x', fontsize=16)\n",
    "pyplot.ylabel('$C_p$', fontsize=16)\n",
    "pyplot.plot(x_cylinder, cp_analytical, color='b', linestyle='-', linewidth=1, zorder=1)\n",
    "pyplot.scatter([p.xc for p in panels], [p.cp for p in panels], color='#CD2305', s=40, zorder=2)\n",
    "pyplot.title('Number of panels : %d' % N_panels, fontsize=16)\n",
    "pyplot.legend(['analytical', 'source panel method'], loc='best', prop={'size':16})\n",
    "pyplot.xlim(-1.0, 1.0)\n",
    "pyplot.ylim(-4.0, 2.0);"
   ]
  },
  {
   "cell_type": "markdown",
   "metadata": {},
   "source": [
    "##### Challenge task"
   ]
  },
  {
   "cell_type": "markdown",
   "metadata": {},
   "source": [
    "Now that we have computed the pressure coefficient on the surface of the cylinder, it will be interesting to visualize what the streamlines look like.\n",
    "\n",
    "To do that, we use the function `streamplot()` from Matplotlib, requiring the Cartesian velocity components (`u`,`v`) on a mesh grid (`X`,`Y`). Therefore, the first step is to derive the equations for the velocity components.\n",
    "\n",
    "The potential at point $\\left(x,y\\right)$ of the $N_p$ source sheets in a uniform horizontal flow $U_\\infty$ is\n",
    "\n",
    "$$\\phi\\left(x,y\\right) = U_\\infty x + \\sum_{j=1}^{N_p} \\frac{\\sigma_j}{4\\pi} \\int \\ln \\left( \\left(x-x_j(s_j)\\right)^2 + \\left(y-y_j(s_j)\\right)^2 \\right) {\\rm d}s_j$$\n",
    "\n",
    "And the velocity field at point $\\left(x,y\\right)$ is\n",
    "\n",
    "$$u\\left(x,y\\right) = \\frac{\\partial}{\\partial x}\\left\\lbrace \\phi\\left(x,y\\right) \\right\\rbrace$$\n",
    "\n",
    "$$v\\left(x,y\\right) = \\frac{\\partial}{\\partial y}\\left\\lbrace \\phi\\left(x,y\\right) \\right\\rbrace$$\n",
    "\n",
    "Your task will be to:\n",
    "\n",
    "* derive the Cartesian velocity components\n",
    "* create a mesh grid\n",
    "* compute the velocity field on the mesh grid\n",
    "* plot the results\n",
    "* change the number of panels to improve the visualization"
   ]
  },
  {
   "cell_type": "markdown",
   "metadata": {},
   "source": [
    "---"
   ]
  },
  {
   "cell_type": "raw",
   "metadata": {},
   "source": [
    "Please ignore the cell below. It just loads our style for the notebook."
   ]
  },
  {
   "cell_type": "code",
   "execution_count": 13,
   "metadata": {
    "collapsed": false
   },
   "outputs": [
    {
     "ename": "FileNotFoundError",
     "evalue": "[Errno 2] No such file or directory: '../styles/custom.css'",
     "output_type": "error",
     "traceback": [
      "\u001b[1;31m---------------------------------------------------------------------------\u001b[0m",
      "\u001b[1;31mFileNotFoundError\u001b[0m                         Traceback (most recent call last)",
      "\u001b[1;32m<ipython-input-13-c9bc4ca2e155>\u001b[0m in \u001b[0;36m<module>\u001b[1;34m()\u001b[0m\n\u001b[0;32m      3\u001b[0m     \u001b[0mstyles\u001b[0m \u001b[1;33m=\u001b[0m \u001b[0mopen\u001b[0m\u001b[1;33m(\u001b[0m\u001b[1;34m'../styles/custom.css'\u001b[0m\u001b[1;33m,\u001b[0m \u001b[1;34m'r'\u001b[0m\u001b[1;33m)\u001b[0m\u001b[1;33m.\u001b[0m\u001b[0mread\u001b[0m\u001b[1;33m(\u001b[0m\u001b[1;33m)\u001b[0m\u001b[1;33m\u001b[0m\u001b[0m\n\u001b[0;32m      4\u001b[0m     \u001b[1;32mreturn\u001b[0m \u001b[0mHTML\u001b[0m\u001b[1;33m(\u001b[0m\u001b[0mstyles\u001b[0m\u001b[1;33m)\u001b[0m\u001b[1;33m\u001b[0m\u001b[0m\n\u001b[1;32m----> 5\u001b[1;33m \u001b[0mcss_styling\u001b[0m\u001b[1;33m(\u001b[0m\u001b[1;33m)\u001b[0m\u001b[1;33m\u001b[0m\u001b[0m\n\u001b[0m",
      "\u001b[1;32m<ipython-input-13-c9bc4ca2e155>\u001b[0m in \u001b[0;36mcss_styling\u001b[1;34m()\u001b[0m\n\u001b[0;32m      1\u001b[0m \u001b[1;32mfrom\u001b[0m \u001b[0mIPython\u001b[0m\u001b[1;33m.\u001b[0m\u001b[0mcore\u001b[0m\u001b[1;33m.\u001b[0m\u001b[0mdisplay\u001b[0m \u001b[1;32mimport\u001b[0m \u001b[0mHTML\u001b[0m\u001b[1;33m\u001b[0m\u001b[0m\n\u001b[0;32m      2\u001b[0m \u001b[1;32mdef\u001b[0m \u001b[0mcss_styling\u001b[0m\u001b[1;33m(\u001b[0m\u001b[1;33m)\u001b[0m\u001b[1;33m:\u001b[0m\u001b[1;33m\u001b[0m\u001b[0m\n\u001b[1;32m----> 3\u001b[1;33m     \u001b[0mstyles\u001b[0m \u001b[1;33m=\u001b[0m \u001b[0mopen\u001b[0m\u001b[1;33m(\u001b[0m\u001b[1;34m'../styles/custom.css'\u001b[0m\u001b[1;33m,\u001b[0m \u001b[1;34m'r'\u001b[0m\u001b[1;33m)\u001b[0m\u001b[1;33m.\u001b[0m\u001b[0mread\u001b[0m\u001b[1;33m(\u001b[0m\u001b[1;33m)\u001b[0m\u001b[1;33m\u001b[0m\u001b[0m\n\u001b[0m\u001b[0;32m      4\u001b[0m     \u001b[1;32mreturn\u001b[0m \u001b[0mHTML\u001b[0m\u001b[1;33m(\u001b[0m\u001b[0mstyles\u001b[0m\u001b[1;33m)\u001b[0m\u001b[1;33m\u001b[0m\u001b[0m\n\u001b[0;32m      5\u001b[0m \u001b[0mcss_styling\u001b[0m\u001b[1;33m(\u001b[0m\u001b[1;33m)\u001b[0m\u001b[1;33m\u001b[0m\u001b[0m\n",
      "\u001b[1;31mFileNotFoundError\u001b[0m: [Errno 2] No such file or directory: '../styles/custom.css'"
     ]
    }
   ],
   "source": [
    "from IPython.core.display import HTML\n",
    "def css_styling():\n",
    "    styles = open('../styles/custom.css', 'r').read()\n",
    "    return HTML(styles)\n",
    "css_styling()"
   ]
  }
 ],
 "metadata": {
  "kernelspec": {
   "display_name": "Python 3",
   "language": "python",
   "name": "python3"
  },
  "language_info": {
   "codemirror_mode": {
    "name": "ipython",
    "version": 3
   },
   "file_extension": ".py",
   "mimetype": "text/x-python",
   "name": "python",
   "nbconvert_exporter": "python",
   "pygments_lexer": "ipython3",
   "version": "3.4.4"
  }
 },
 "nbformat": 4,
 "nbformat_minor": 0
}
