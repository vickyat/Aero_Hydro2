{
 "cells": [
  {
   "cell_type": "code",
   "execution_count": 1,
   "metadata": {
    "collapsed": true
   },
   "outputs": [],
   "source": [
    "import numpy\n",
    "from scipy import integrate\n",
    "from matplotlib import pyplot\n",
    "%matplotlib inline"
   ]
  },
  {
   "cell_type": "code",
   "execution_count": 2,
   "metadata": {
    "collapsed": false
   },
   "outputs": [
    {
     "data": {
      "text/plain": [
       "[<matplotlib.lines.Line2D at 0x7f00f7a4ba90>]"
      ]
     },
     "execution_count": 2,
     "metadata": {},
     "output_type": "execute_result"
    },
    {
     "data": {
      "image/png": "[encoded data removed]",
      "text/plain": [
       "<matplotlib.figure.Figure at 0x7f00f7a434e0>"
      ]
     },
     "metadata": {},
     "output_type": "display_data"
    }
   ],
   "source": [
    "with open('./naca0012.dat') as file_name:\n",
    "    x,y = numpy.loadtxt(file_name,dtype=float,delimiter='\\t',unpack=True)\n",
    "\n",
    "val_x,val_y = 0.1,0.2\n",
    "x_min,x_max = x.min(),x.max()\n",
    "y_min,y_max = y.min(),y.max()\n",
    "x_start,x_end = x_min-val_x*(x_max-x_min),x_max+val_x*(x_max-x_min)\n",
    "y_start,y_end = y_min-val_y*(y_max-y_min),y_max+val_y*(y_max-y_min)\n",
    "\n",
    "size=10\n",
    "pyplot.figure(figsize=(size,(y_end-y_start)/(x_end-x_start)*size))\n",
    "pyplot.grid(True)\n",
    "pyplot.xlabel('x')\n",
    "pyplot.ylabel('y')\n",
    "pyplot.xlim(x_start,x_end)\n",
    "pyplot.ylim(y_start,y_end)\n",
    "pyplot.plot(x,y,linestyle='-',linewidth=2)"
   ]
  },
  {
   "cell_type": "code",
   "execution_count": 3,
   "metadata": {
    "collapsed": true
   },
   "outputs": [],
   "source": [
    "class Panel:\n",
    "    def __init__(self,xa,ya,xb,yb):\n",
    "        self.xa,self.ya =xa,ya\n",
    "        self.xb,self,yb =xb,yb\n",
    "        self.xc,self.yc = (xa+xb)/2,(ya+yb)/2\n",
    "        self.length = numpy.sqrt((xb-xa)**2+(yb-ya)**2)\n",
    "        \n",
    "        if xb-xa<=0.:\n",
    "            self.beta = numpy.arccos((yb-ya)/self.length)\n",
    "        elif xb-xa>0.:\n",
    "            self.beta = numpy.pi + numpy.arccos(-(yb-ya)/self.length)\n",
    "        \n",
    "        if self.beta <= numpy.pi:\n",
    "            self.loc = 'upper'\n",
    "        else:\n",
    "            self.loc = 'lower'\n",
    "        \n",
    "        self.sigma = 0.\n",
    "        self.vt = 0.\n",
    "        self.cp = 0."
   ]
  },
  {
   "cell_type": "code",
   "execution_count": null,
   "metadata": {
    "collapsed": true
   },
   "outputs": [],
   "source": [
    "N = 40"
   ]
  }
 ],
 "metadata": {
  "kernelspec": {
   "display_name": "Python 3",
   "language": "python",
   "name": "python3"
  },
  "language_info": {
   "codemirror_mode": {
    "name": "ipython",
    "version": 3
   },
   "file_extension": ".py",
   "mimetype": "text/x-python",
   "name": "python",
   "nbconvert_exporter": "python",
   "pygments_lexer": "ipython3",
   "version": "3.4.4"
  }
 },
 "nbformat": 4,
 "nbformat_minor": 0
}
